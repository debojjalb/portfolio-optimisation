{
  "nbformat": 4,
  "nbformat_minor": 0,
  "metadata": {
    "colab": {
      "name": "MG251_Code_for_Part_1_2_&_3 (1).ipynb",
      "provenance": [],
      "collapsed_sections": [],
      "toc_visible": true
    },
    "kernelspec": {
      "name": "python3",
      "display_name": "Python 3"
    },
    "language_info": {
      "name": "python"
    }
  },
  "cells": [
    {
      "cell_type": "markdown",
      "metadata": {
        "id": "6655vCqBvKNE"
      },
      "source": [

      ]
    },
    {
      "cell_type": "markdown",
      "metadata": {
        "id": "msaDV7aAuNM6"
      },
      "source": [
        "### **Import Libraries**"
      ]
    },
    {
      "cell_type": "code",
      "metadata": {
        "id": "1UacqSWcLrGZ"
      },
      "source": [
        "import pandas as pd  \n",
        "import numpy as np\n",
        "from numpy.linalg import inv,pinv\n",
        "import matplotlib.pyplot as plt\n",
        "import seaborn as sns\n",
        "import scipy.optimize as sco\n",
        "from scipy.optimize import minimize"
      ],
      "execution_count": 1,
      "outputs": []
    },
    {
      "cell_type": "markdown",
      "metadata": {
        "id": "RdFjPwvLuU_3"
      },
      "source": [
        "### **Data Cleanup**"
      ]
    },
    {
      "cell_type": "code",
      "metadata": {
        "id": "0j5tNxA8L6FH"
      },
      "source": [
        "cols= [\"Date\",\"Adj Close\"]\n",
        "\n",
        "ADANIPORTS = pd.read_csv(\"ADANIPORTS.NS.csv\")[[\"Date\",\"Adj Close\"]]\n",
        "GAIL = pd.read_csv(\"GAIL.NS.csv\")[\"Adj Close\"]\n",
        "HDFCBANK = pd.read_csv(\"HDFCBANK.NS.csv\")[\"Adj Close\"]\n",
        "INFY = pd.read_csv(\"INFY.NS.csv\")[\"Adj Close\"]\n",
        "KOTAKBANK = pd.read_csv(\"KOTAKBANK.NS.csv\")[\"Adj Close\"]\n",
        "RELIANCE = pd.read_csv(\"RELIANCE.NS.csv\")[\"Adj Close\"]\n",
        "TATASTEEL = pd.read_csv(\"TATASTEEL.NS.csv\")[\"Adj Close\"]"
      ],
      "execution_count": 2,
      "outputs": []
    },
    {
      "cell_type": "code",
      "metadata": {
        "colab": {
          "base_uri": "https://localhost:8080/",
          "height": 320
        },
        "id": "Gaj39UOlL8Gn",
        "outputId": "d1798902-2d00-4ace-87c9-f4bb2a33aabc"
      },
      "source": [
        "price_data = pd.concat([ADANIPORTS, GAIL, HDFCBANK,INFY, KOTAKBANK,  RELIANCE, TATASTEEL], axis=1)\n",
        "price_data.columns = ['Date', 'ADANIPORTS', 'GAIL', 'HDFCBANK', 'INFY','KOTAKBANK','RELIANCE', 'TATASTEEL']\n",
        "price_data = price_data.set_index('Date')\n",
        "price_data.head()"
      ],
      "execution_count": 3,
      "outputs": [
        {
          "output_type": "execute_result",
          "data": {
            "text/html": [
              "<div>\n",
              "<style scoped>\n",
              "    .dataframe tbody tr th:only-of-type {\n",
              "        vertical-align: middle;\n",
              "    }\n",
              "\n",
              "    .dataframe tbody tr th {\n",
              "        vertical-align: top;\n",
              "    }\n",
              "\n",
              "    .dataframe thead th {\n",
              "        text-align: right;\n",
              "    }\n",
              "</style>\n",
              "<table border=\"1\" class=\"dataframe\">\n",
              "  <thead>\n",
              "    <tr style=\"text-align: right;\">\n",
              "      <th></th>\n",
              "      <th>ADANIPORTS</th>\n",
              "      <th>GAIL</th>\n",
              "      <th>HDFCBANK</th>\n",
              "      <th>INFY</th>\n",
              "      <th>KOTAKBANK</th>\n",
              "      <th>RELIANCE</th>\n",
              "      <th>TATASTEEL</th>\n",
              "    </tr>\n",
              "    <tr>\n",
              "      <th>Date</th>\n",
              "      <th></th>\n",
              "      <th></th>\n",
              "      <th></th>\n",
              "      <th></th>\n",
              "      <th></th>\n",
              "      <th></th>\n",
              "      <th></th>\n",
              "    </tr>\n",
              "  </thead>\n",
              "  <tbody>\n",
              "    <tr>\n",
              "      <th>2020-04-30</th>\n",
              "      <td>290.100006</td>\n",
              "      <td>92.205490</td>\n",
              "      <td>1001.799988</td>\n",
              "      <td>698.388733</td>\n",
              "      <td>1357.199951</td>\n",
              "      <td>1446.801758</td>\n",
              "      <td>290.763367</td>\n",
              "    </tr>\n",
              "    <tr>\n",
              "      <th>2020-05-04</th>\n",
              "      <td>266.350006</td>\n",
              "      <td>90.085823</td>\n",
              "      <td>923.000000</td>\n",
              "      <td>657.588379</td>\n",
              "      <td>1277.800049</td>\n",
              "      <td>1416.405151</td>\n",
              "      <td>266.687439</td>\n",
              "    </tr>\n",
              "    <tr>\n",
              "      <th>2020-05-05</th>\n",
              "      <td>263.100006</td>\n",
              "      <td>87.773468</td>\n",
              "      <td>911.450012</td>\n",
              "      <td>657.588379</td>\n",
              "      <td>1238.349976</td>\n",
              "      <td>1441.521729</td>\n",
              "      <td>265.761414</td>\n",
              "    </tr>\n",
              "    <tr>\n",
              "      <th>2020-05-06</th>\n",
              "      <td>270.149994</td>\n",
              "      <td>91.242004</td>\n",
              "      <td>946.400024</td>\n",
              "      <td>649.974915</td>\n",
              "      <td>1245.949951</td>\n",
              "      <td>1441.620483</td>\n",
              "      <td>270.732574</td>\n",
              "    </tr>\n",
              "    <tr>\n",
              "      <th>2020-05-07</th>\n",
              "      <td>282.399994</td>\n",
              "      <td>88.158859</td>\n",
              "      <td>925.000000</td>\n",
              "      <td>649.047607</td>\n",
              "      <td>1199.800049</td>\n",
              "      <td>1487.215576</td>\n",
              "      <td>268.880585</td>\n",
              "    </tr>\n",
              "  </tbody>\n",
              "</table>\n",
              "</div>"
            ],
            "text/plain": [
              "            ADANIPORTS       GAIL  ...     RELIANCE   TATASTEEL\n",
              "Date                               ...                         \n",
              "2020-04-30  290.100006  92.205490  ...  1446.801758  290.763367\n",
              "2020-05-04  266.350006  90.085823  ...  1416.405151  266.687439\n",
              "2020-05-05  263.100006  87.773468  ...  1441.521729  265.761414\n",
              "2020-05-06  270.149994  91.242004  ...  1441.620483  270.732574\n",
              "2020-05-07  282.399994  88.158859  ...  1487.215576  268.880585\n",
              "\n",
              "[5 rows x 7 columns]"
            ]
          },
          "metadata": {
            "tags": []
          },
          "execution_count": 3
        }
      ]
    },
    {
      "cell_type": "code",
      "metadata": {
        "colab": {
          "base_uri": "https://localhost:8080/"
        },
        "id": "Z9OoJtt2bx_U",
        "outputId": "66efbe70-f3bf-4da7-dc13-5194c30d5dde"
      },
      "source": [
        "price_data.count()"
      ],
      "execution_count": 4,
      "outputs": [
        {
          "output_type": "execute_result",
          "data": {
            "text/plain": [
              "ADANIPORTS    250\n",
              "GAIL          250\n",
              "HDFCBANK      250\n",
              "INFY          250\n",
              "KOTAKBANK     250\n",
              "RELIANCE      250\n",
              "TATASTEEL     250\n",
              "dtype: int64"
            ]
          },
          "metadata": {
            "tags": []
          },
          "execution_count": 4
        }
      ]
    },
    {
      "cell_type": "markdown",
      "metadata": {
        "id": "QeSlnpboPwrG"
      },
      "source": [
        "# **Part A : QUADRITIC PROGRAMMING**\n"
      ]
    },
    {
      "cell_type": "markdown",
      "metadata": {
        "id": "NzSmWW8rubl0"
      },
      "source": [
        "### **Task 1: Efficient Frontier Line**\n",
        "\n"
      ]
    },
    {
      "cell_type": "code",
      "metadata": {
        "id": "FCFzxrlwGI78"
      },
      "source": [
        "def portfolio_return(weights, returns):\n",
        "    \"\"\"\n",
        "    Computes the return on a portfolio from constituent returns and weights\n",
        "    weights are a numpy array or Nx1 matrix and returns are a numpy array or Nx1 matrix\n",
        "    \"\"\"\n",
        "    return weights.T @ returns"
      ],
      "execution_count": 5,
      "outputs": []
    },
    {
      "cell_type": "code",
      "metadata": {
        "id": "lObFm-VLGLyk"
      },
      "source": [
        "def portfolio_vol(weights, covmat):\n",
        "    \"\"\"\n",
        "    Computes the vol of a portfolio from a covariance matrix and constituent weights\n",
        "    weights are a numpy array or N x 1 maxtrix and covmat is an N x N matrix\n",
        "    \"\"\"\n",
        "    return (weights.T @ covmat @ weights)**0.5"
      ],
      "execution_count": 6,
      "outputs": []
    },
    {
      "cell_type": "code",
      "metadata": {
        "id": "4EdqKhpoL-Se"
      },
      "source": [
        "ret = price_data.pct_change()\n",
        "cov = ret.cov()*250\n",
        "er = ret.mean()*250\n",
        "\n",
        "\n"
      ],
      "execution_count": 7,
      "outputs": []
    },
    {
      "cell_type": "code",
      "metadata": {
        "colab": {
          "base_uri": "https://localhost:8080/"
        },
        "id": "xmgwLW_qgYnx",
        "outputId": "8f903df5-14e8-454e-ffa7-b2c5c5a94f1e"
      },
      "source": [
        "return_of_stocks = []\n",
        "return_of_stocks=ret.mean()*250\n",
        "return_of_stocks"
      ],
      "execution_count": 8,
      "outputs": [
        {
          "output_type": "execute_result",
          "data": {
            "text/plain": [
              "ADANIPORTS    1.005494\n",
              "GAIL          0.467059\n",
              "HDFCBANK      0.397069\n",
              "INFY          0.706191\n",
              "KOTAKBANK     0.313260\n",
              "RELIANCE      0.371473\n",
              "TATASTEEL     1.353889\n",
              "dtype: float64"
            ]
          },
          "metadata": {
            "tags": []
          },
          "execution_count": 8
        }
      ]
    },
    {
      "cell_type": "code",
      "metadata": {
        "id": "rJov2k2oA1FW"
      },
      "source": [
        "from scipy.optimize import minimize\n",
        " \n",
        "def minimize_vol(target_return, er, cov):\n",
        "    \"\"\"\n",
        "    Returns the optimal weights that achieve the target return\n",
        "    given a set of expected returns and a covariance matrix\n",
        "    \"\"\"\n",
        "    n = er.shape[0]\n",
        "    init_guess = np.repeat(1/n, n)\n",
        "    bounds = ((0.0, 1.0),) * n # an N-tuple of 2-tuples!\n",
        "    # construct the constraints\n",
        "    weights_sum_to_1 = {'type': 'eq',\n",
        "                        'fun': lambda weights: np.sum(weights) - 1\n",
        "    }\n",
        "    return_is_target = {'type': 'eq',\n",
        "                        'args': (er,),\n",
        "                        'fun': lambda weights, er: target_return - portfolio_return(weights,er)\n",
        "    }\n",
        "    weights = minimize(portfolio_vol, init_guess,\n",
        "                       args=(cov,), method='SLSQP',\n",
        "                       options={'disp': False},\n",
        "                       constraints=(weights_sum_to_1,return_is_target),\n",
        "                       bounds=bounds)\n",
        "    return weights.x"
      ],
      "execution_count": 9,
      "outputs": []
    },
    {
      "cell_type": "code",
      "metadata": {
        "id": "bhBjJa5dA63_"
      },
      "source": [
        "def optimal_weights(n_points, er, cov):\n",
        "    \"\"\"\n",
        "    \"\"\"\n",
        "    target_rs = np.linspace(er.min(), er.max(), n_points)\n",
        "    weights = [minimize_vol(target_return, er, cov) for target_return in target_rs]\n",
        "    return weights\n",
        " "
      ],
      "execution_count": 10,
      "outputs": []
    },
    {
      "cell_type": "code",
      "metadata": {
        "id": "yd5tfScoF-Xh"
      },
      "source": [
        "def plot_ef(n_points, er, cov):\n",
        "    \"\"\"\n",
        "    Plots the multi-asset efficient frontier\n",
        "    \"\"\"\n",
        "    weights = optimal_weights(n_points, er, cov)\n",
        "    rets = [portfolio_return(w, er) for w in weights]\n",
        "    vols = [portfolio_vol(w, cov) for w in weights]\n",
        "    ef = pd.DataFrame({\n",
        "        \"Returns\": rets, \n",
        "        \"Volatility\": vols,\n",
        "        \"Weights\": weights\n",
        "    })\n",
        "    plt.plot(ef[\"Volatility\"],ef[\"Returns\"])\n",
        "    plt.xlabel('Volatility')\n",
        "    plt.ylabel(\"Returns\")\n",
        "    plt.title(\"Efficient Frontier Line\")\n",
        "    plt.savefig('QP_EFL')\n",
        "    return [ef.plot.line(x=\"Volatility\", y=\"Returns\", style='-', legend=False),ef]\n"
      ],
      "execution_count": 11,
      "outputs": []
    },
    {
      "cell_type": "code",
      "metadata": {
        "colab": {
          "base_uri": "https://localhost:8080/",
          "height": 560
        },
        "id": "PUFD6QE7K8My",
        "outputId": "7e0db97d-fe4d-47fb-a4ed-f549dfd921d1"
      },
      "source": [
        "df= plot_ef(500, er, cov)[1]"
      ],
      "execution_count": 12,
      "outputs": [
        {
          "output_type": "display_data",
          "data": {
            "image/png": "[encoded data removed]",
            "text/plain": [
              "<Figure size 432x288 with 1 Axes>"
            ]
          },
          "metadata": {
            "tags": [],
            "needs_background": "light"
          }
        },
        {
          "output_type": "display_data",
          "data": {
            "image/png": "[encoded data removed]",
            "text/plain": [
              "<Figure size 432x288 with 1 Axes>"
            ]
          },
          "metadata": {
            "tags": [],
            "needs_background": "light"
          }
        }
      ]
    },
    {
      "cell_type": "markdown",
      "metadata": {
        "id": "iiWy1pEgQJHI"
      },
      "source": [
        "### **Task 2: Minimum Varience Portfollio**\n"
      ]
    },
    {
      "cell_type": "code",
      "metadata": {
        "colab": {
          "base_uri": "https://localhost:8080/",
          "height": 204
        },
        "id": "bK8sgX1TLcrg",
        "outputId": "b3ee155d-60d2-417a-a7bf-c27da3155350"
      },
      "source": [
        "df['Sharpe_Ratio'] = (df.Returns - 0.05) / df.Volatility\n",
        "df.head()"
      ],
      "execution_count": 13,
      "outputs": [
        {
          "output_type": "execute_result",
          "data": {
            "text/html": [
              "<div>\n",
              "<style scoped>\n",
              "    .dataframe tbody tr th:only-of-type {\n",
              "        vertical-align: middle;\n",
              "    }\n",
              "\n",
              "    .dataframe tbody tr th {\n",
              "        vertical-align: top;\n",
              "    }\n",
              "\n",
              "    .dataframe thead th {\n",
              "        text-align: right;\n",
              "    }\n",
              "</style>\n",
              "<table border=\"1\" class=\"dataframe\">\n",
              "  <thead>\n",
              "    <tr style=\"text-align: right;\">\n",
              "      <th></th>\n",
              "      <th>Returns</th>\n",
              "      <th>Volatility</th>\n",
              "      <th>Weights</th>\n",
              "      <th>Sharpe_Ratio</th>\n",
              "    </tr>\n",
              "  </thead>\n",
              "  <tbody>\n",
              "    <tr>\n",
              "      <th>0</th>\n",
              "      <td>0.313260</td>\n",
              "      <td>0.345611</td>\n",
              "      <td>[0.0, 0.0, 3.2617408502086053e-16, 0.0, 0.9999...</td>\n",
              "      <td>0.761722</td>\n",
              "    </tr>\n",
              "    <tr>\n",
              "      <th>1</th>\n",
              "      <td>0.315345</td>\n",
              "      <td>0.335847</td>\n",
              "      <td>[4.440892098500626e-15, 2.248201624865942e-15,...</td>\n",
              "      <td>0.790077</td>\n",
              "    </tr>\n",
              "    <tr>\n",
              "      <th>2</th>\n",
              "      <td>0.317431</td>\n",
              "      <td>0.326472</td>\n",
              "      <td>[0.0, 0.0, 1.7763568394002505e-15, 0.0, 0.9283...</td>\n",
              "      <td>0.819152</td>\n",
              "    </tr>\n",
              "    <tr>\n",
              "      <th>3</th>\n",
              "      <td>0.319516</td>\n",
              "      <td>0.317520</td>\n",
              "      <td>[0.0, 0.0, 1.0547118733938987e-15, 4.996003610...</td>\n",
              "      <td>0.848815</td>\n",
              "    </tr>\n",
              "    <tr>\n",
              "      <th>4</th>\n",
              "      <td>0.321601</td>\n",
              "      <td>0.309028</td>\n",
              "      <td>[1.6930901125533637e-15, 1.1102230246251565e-1...</td>\n",
              "      <td>0.878888</td>\n",
              "    </tr>\n",
              "  </tbody>\n",
              "</table>\n",
              "</div>"
            ],
            "text/plain": [
              "    Returns  ...  Sharpe_Ratio\n",
              "0  0.313260  ...      0.761722\n",
              "1  0.315345  ...      0.790077\n",
              "2  0.317431  ...      0.819152\n",
              "3  0.319516  ...      0.848815\n",
              "4  0.321601  ...      0.878888\n",
              "\n",
              "[5 rows x 4 columns]"
            ]
          },
          "metadata": {
            "tags": []
          },
          "execution_count": 13
        }
      ]
    },
    {
      "cell_type": "code",
      "metadata": {
        "id": "Kup_WcB7MIY_"
      },
      "source": [
        "min_var = df.Weights[df.Volatility.argmin()]"
      ],
      "execution_count": 14,
      "outputs": []
    },
    {
      "cell_type": "code",
      "metadata": {
        "colab": {
          "base_uri": "https://localhost:8080/"
        },
        "id": "Yv5MlcitXegL",
        "outputId": "8d01e692-f762-4525-fee6-b6eb6d0abb31"
      },
      "source": [
        "min_var"
      ],
      "execution_count": 15,
      "outputs": [
        {
          "output_type": "execute_result",
          "data": {
            "text/plain": [
              "array([0.04817977, 0.1187478 , 0.08384162, 0.35689849, 0.14283401,\n",
              "       0.22684913, 0.02264918])"
            ]
          },
          "metadata": {
            "tags": []
          },
          "execution_count": 15
        }
      ]
    },
    {
      "cell_type": "code",
      "metadata": {
        "colab": {
          "base_uri": "https://localhost:8080/"
        },
        "id": "Jm9871jIVubA",
        "outputId": "fcdc7900-b8a9-4027-ba14-ab077db7b9d7"
      },
      "source": [
        "df.Volatility[df.Volatility.argmin()] "
      ],
      "execution_count": 16,
      "outputs": [
        {
          "output_type": "execute_result",
          "data": {
            "text/plain": [
              "0.20041399032558896"
            ]
          },
          "metadata": {
            "tags": []
          },
          "execution_count": 16
        }
      ]
    },
    {
      "cell_type": "code",
      "metadata": {
        "colab": {
          "base_uri": "https://localhost:8080/"
        },
        "id": "3ZefrTz1YPKt",
        "outputId": "cf0380c2-c6a8-498c-caba-afdfedef1ca1"
      },
      "source": [
        "df.Returns[df.Volatility.argmin()]"
      ],
      "execution_count": 17,
      "outputs": [
        {
          "output_type": "execute_result",
          "data": {
            "text/plain": [
              "0.5489132603835559"
            ]
          },
          "metadata": {
            "tags": []
          },
          "execution_count": 17
        }
      ]
    },
    {
      "cell_type": "code",
      "metadata": {
        "colab": {
          "base_uri": "https://localhost:8080/"
        },
        "id": "rxCoXv9Lfqww",
        "outputId": "8532cb1e-357f-41b1-93be-4af772f04f7f"
      },
      "source": [
        "df.Sharpe_Ratio.max()"
      ],
      "execution_count": 18,
      "outputs": [
        {
          "output_type": "execute_result",
          "data": {
            "text/plain": [
              "3.699774905127927"
            ]
          },
          "metadata": {
            "tags": []
          },
          "execution_count": 18
        }
      ]
    },
    {
      "cell_type": "code",
      "metadata": {
        "colab": {
          "base_uri": "https://localhost:8080/"
        },
        "id": "efN1XyW5fDXV",
        "outputId": "d44c72b1-a176-4ad0-9657-298ff2a4b10b"
      },
      "source": [
        "df.Returns[df.Sharpe_Ratio.argmax()]"
      ],
      "execution_count": 19,
      "outputs": [
        {
          "output_type": "execute_result",
          "data": {
            "text/plain": [
              "1.0306475702803943"
            ]
          },
          "metadata": {
            "tags": []
          },
          "execution_count": 19
        }
      ]
    },
    {
      "cell_type": "code",
      "metadata": {
        "colab": {
          "base_uri": "https://localhost:8080/"
        },
        "id": "EPuC8zbwNzM3",
        "outputId": "12d85269-4a24-4724-8e32-e860409ad04f"
      },
      "source": [
        "df.Volatility[df.Sharpe_Ratio.argmax()]"
      ],
      "execution_count": 20,
      "outputs": [
        {
          "output_type": "execute_result",
          "data": {
            "text/plain": [
              "0.265056008926707"
            ]
          },
          "metadata": {
            "tags": []
          },
          "execution_count": 20
        }
      ]
    },
    {
      "cell_type": "code",
      "metadata": {
        "colab": {
          "base_uri": "https://localhost:8080/"
        },
        "id": "FbdFFxANmHaD",
        "outputId": "90599749-4b15-425a-bc38-c7d600bb4f01"
      },
      "source": [
        "max_sr = df.Weights[df.Sharpe_Ratio.argmax()]\n",
        "max_sr"
      ],
      "execution_count": 21,
      "outputs": [
        {
          "output_type": "execute_result",
          "data": {
            "text/plain": [
              "array([2.00617697e-01, 2.91108283e-17, 0.00000000e+00, 3.91150398e-01,\n",
              "       1.00830802e-17, 0.00000000e+00, 4.08231905e-01])"
            ]
          },
          "metadata": {
            "tags": []
          },
          "execution_count": 21
        }
      ]
    },
    {
      "cell_type": "code",
      "metadata": {
        "colab": {
          "base_uri": "https://localhost:8080/",
          "height": 295
        },
        "id": "6D8JAmdQNidT",
        "outputId": "7d98102e-1f49-4a9c-e029-fa15d820648b"
      },
      "source": [
        "weights = optimal_weights(100, er, cov)\n",
        "rets = [portfolio_return(w, er) for w in weights]\n",
        "vols = [portfolio_vol(w, cov) for w in weights]\n",
        "ef = pd.DataFrame({\n",
        "  \"Returns\": rets, \n",
        "  \"Volatility\": vols,\n",
        "  \"Weights\": weights\n",
        "})\n",
        "plt.plot(ef[\"Volatility\"],ef[\"Returns\"])\n",
        "plt.xlabel('Volatility')\n",
        "plt.ylabel(\"Returns\")\n",
        "plt.title(\"Efficient Frontier Line\")\n",
        "plt.plot(ef[\"Volatility\"], ef[\"Returns\"], c='r')\n",
        "\n",
        "plt.scatter(df.Volatility[df.Sharpe_Ratio.argmax()],df.Returns[df.Sharpe_Ratio.argmax()], c='b')\n",
        "plt.scatter(df.Volatility[df.Volatility.argmin()] ,df.Returns[df.Volatility.argmin()], c='g')\n",
        "\n",
        "plt.text(0.21, 0.48, 'Minimum Variance Portfollio', fontsize=15,  color='g')\n",
        "plt.text(0.27, 0.88, 'Maximum Sharpe Portfollio', fontsize=15,  color='b')\n",
        "plt.savefig('QP_EFL_with_points')\n",
        "\n"
      ],
      "execution_count": 22,
      "outputs": [
        {
          "output_type": "display_data",
          "data": {
            "image/png": "[encoded data removed]",
            "text/plain": [
              "<Figure size 432x288 with 1 Axes>"
            ]
          },
          "metadata": {
            "tags": [],
            "needs_background": "light"
          }
        }
      ]
    },
    {
      "cell_type": "code",
      "metadata": {
        "colab": {
          "base_uri": "https://localhost:8080/",
          "height": 362
        },
        "id": "Fhob7W0IMz1K",
        "outputId": "a9355485-6803-4c89-cb84-9eec72c1ed11"
      },
      "source": [
        "names = price_data.columns\n",
        "\n",
        "min_var = pd.Series(min_var, index=names)\n",
        "min_var = min_var.sort_values()\n",
        "fig = plt.figure()\n",
        "ax1 = fig.add_axes([0.1,0.1,0.8,0.8])\n",
        "ax1.set_xlabel('Asset')\n",
        "ax1.set_ylabel(\"Weights\")\n",
        "ax1.set_title(\"Minimum Variance Portfolio weights\")\n",
        "min_var.plot(kind = 'bar')\n",
        "for index,data in enumerate(min_var):\n",
        "    plt.text(x=index-0.21 , y = data+0.003 , s=f\"{round(data*100,1)}%\" , fontdict=dict(fontsize=8))\n",
        "plt.savefig('QP_MVP.png',  bbox_inches = \"tight\")\n",
        "plt.show();\n",
        "\n"
      ],
      "execution_count": 23,
      "outputs": [
        {
          "output_type": "display_data",
          "data": {
            "image/png": "[encoded data removed]",
            "text/plain": [
              "<Figure size 432x288 with 1 Axes>"
            ]
          },
          "metadata": {
            "tags": [],
            "needs_background": "light"
          }
        }
      ]
    },
    {
      "cell_type": "markdown",
      "metadata": {
        "id": "gYd69FEIQV8A"
      },
      "source": [
        "### **Task 3: Asset Beta**\n"
      ]
    },
    {
      "cell_type": "code",
      "metadata": {
        "id": "jC7vqKKfOFrX"
      },
      "source": [
        "rf = 0.05"
      ],
      "execution_count": 24,
      "outputs": []
    },
    {
      "cell_type": "code",
      "metadata": {
        "colab": {
          "base_uri": "https://localhost:8080/"
        },
        "id": "0ndHZdZL0htj",
        "outputId": "b49761ed-989e-43e0-a2af-d13d6a0fd74a"
      },
      "source": [
        "pip install yfinance"
      ],
      "execution_count": 25,
      "outputs": [
        {
          "output_type": "stream",
          "text": [
            "Requirement already satisfied: yfinance in /usr/local/lib/python3.7/dist-packages (0.1.59)\n",
            "Requirement already satisfied: lxml>=4.5.1 in /usr/local/lib/python3.7/dist-packages (from yfinance) (4.6.3)\n",
            "Requirement already satisfied: pandas>=0.24 in /usr/local/lib/python3.7/dist-packages (from yfinance) (1.1.5)\n",
            "Requirement already satisfied: requests>=2.20 in /usr/local/lib/python3.7/dist-packages (from yfinance) (2.23.0)\n",
            "Requirement already satisfied: multitasking>=0.0.7 in /usr/local/lib/python3.7/dist-packages (from yfinance) (0.0.9)\n",
            "Requirement already satisfied: numpy>=1.15 in /usr/local/lib/python3.7/dist-packages (from yfinance) (1.19.5)\n",
            "Requirement already satisfied: pytz>=2017.2 in /usr/local/lib/python3.7/dist-packages (from pandas>=0.24->yfinance) (2018.9)\n",
            "Requirement already satisfied: python-dateutil>=2.7.3 in /usr/local/lib/python3.7/dist-packages (from pandas>=0.24->yfinance) (2.8.1)\n",
            "Requirement already satisfied: certifi>=2017.4.17 in /usr/local/lib/python3.7/dist-packages (from requests>=2.20->yfinance) (2020.12.5)\n",
            "Requirement already satisfied: urllib3!=1.25.0,!=1.25.1,<1.26,>=1.21.1 in /usr/local/lib/python3.7/dist-packages (from requests>=2.20->yfinance) (1.24.3)\n",
            "Requirement already satisfied: chardet<4,>=3.0.2 in /usr/local/lib/python3.7/dist-packages (from requests>=2.20->yfinance) (3.0.4)\n",
            "Requirement already satisfied: idna<3,>=2.5 in /usr/local/lib/python3.7/dist-packages (from requests>=2.20->yfinance) (2.10)\n",
            "Requirement already satisfied: six>=1.5 in /usr/local/lib/python3.7/dist-packages (from python-dateutil>=2.7.3->pandas>=0.24->yfinance) (1.15.0)\n"
          ],
          "name": "stdout"
        }
      ]
    },
    {
      "cell_type": "code",
      "metadata": {
        "id": "FFhuNIJr0-eX",
        "colab": {
          "base_uri": "https://localhost:8080/",
          "height": 111
        },
        "outputId": "84984daa-bf6c-4b9c-8d86-08a01dd7bacc"
      },
      "source": [
        "price_data.head(1)"
      ],
      "execution_count": 26,
      "outputs": [
        {
          "output_type": "execute_result",
          "data": {
            "text/html": [
              "<div>\n",
              "<style scoped>\n",
              "    .dataframe tbody tr th:only-of-type {\n",
              "        vertical-align: middle;\n",
              "    }\n",
              "\n",
              "    .dataframe tbody tr th {\n",
              "        vertical-align: top;\n",
              "    }\n",
              "\n",
              "    .dataframe thead th {\n",
              "        text-align: right;\n",
              "    }\n",
              "</style>\n",
              "<table border=\"1\" class=\"dataframe\">\n",
              "  <thead>\n",
              "    <tr style=\"text-align: right;\">\n",
              "      <th></th>\n",
              "      <th>ADANIPORTS</th>\n",
              "      <th>GAIL</th>\n",
              "      <th>HDFCBANK</th>\n",
              "      <th>INFY</th>\n",
              "      <th>KOTAKBANK</th>\n",
              "      <th>RELIANCE</th>\n",
              "      <th>TATASTEEL</th>\n",
              "    </tr>\n",
              "    <tr>\n",
              "      <th>Date</th>\n",
              "      <th></th>\n",
              "      <th></th>\n",
              "      <th></th>\n",
              "      <th></th>\n",
              "      <th></th>\n",
              "      <th></th>\n",
              "      <th></th>\n",
              "    </tr>\n",
              "  </thead>\n",
              "  <tbody>\n",
              "    <tr>\n",
              "      <th>2020-04-30</th>\n",
              "      <td>290.100006</td>\n",
              "      <td>92.20549</td>\n",
              "      <td>1001.799988</td>\n",
              "      <td>698.388733</td>\n",
              "      <td>1357.199951</td>\n",
              "      <td>1446.801758</td>\n",
              "      <td>290.763367</td>\n",
              "    </tr>\n",
              "  </tbody>\n",
              "</table>\n",
              "</div>"
            ],
            "text/plain": [
              "            ADANIPORTS      GAIL  ...     RELIANCE   TATASTEEL\n",
              "Date                              ...                         \n",
              "2020-04-30  290.100006  92.20549  ...  1446.801758  290.763367\n",
              "\n",
              "[1 rows x 7 columns]"
            ]
          },
          "metadata": {
            "tags": []
          },
          "execution_count": 26
        }
      ]
    },
    {
      "cell_type": "code",
      "metadata": {
        "id": "ZlYvCOi_1CAm",
        "colab": {
          "base_uri": "https://localhost:8080/",
          "height": 128
        },
        "outputId": "7408a6ed-c49b-46ab-bf24-42ec17ba0ec5"
      },
      "source": [
        "price_data.tail(1)"
      ],
      "execution_count": 27,
      "outputs": [
        {
          "output_type": "execute_result",
          "data": {
            "text/html": [
              "<div>\n",
              "<style scoped>\n",
              "    .dataframe tbody tr th:only-of-type {\n",
              "        vertical-align: middle;\n",
              "    }\n",
              "\n",
              "    .dataframe tbody tr th {\n",
              "        vertical-align: top;\n",
              "    }\n",
              "\n",
              "    .dataframe thead th {\n",
              "        text-align: right;\n",
              "    }\n",
              "</style>\n",
              "<table border=\"1\" class=\"dataframe\">\n",
              "  <thead>\n",
              "    <tr style=\"text-align: right;\">\n",
              "      <th></th>\n",
              "      <th>ADANIPORTS</th>\n",
              "      <th>GAIL</th>\n",
              "      <th>HDFCBANK</th>\n",
              "      <th>INFY</th>\n",
              "      <th>KOTAKBANK</th>\n",
              "      <th>RELIANCE</th>\n",
              "      <th>TATASTEEL</th>\n",
              "    </tr>\n",
              "    <tr>\n",
              "      <th>Date</th>\n",
              "      <th></th>\n",
              "      <th></th>\n",
              "      <th></th>\n",
              "      <th></th>\n",
              "      <th></th>\n",
              "      <th></th>\n",
              "      <th></th>\n",
              "    </tr>\n",
              "  </thead>\n",
              "  <tbody>\n",
              "    <tr>\n",
              "      <th>2021-04-30</th>\n",
              "      <td>732.450012</td>\n",
              "      <td>137.449997</td>\n",
              "      <td>1413.900024</td>\n",
              "      <td>1357.650024</td>\n",
              "      <td>1750.050049</td>\n",
              "      <td>1994.699951</td>\n",
              "      <td>1031.550049</td>\n",
              "    </tr>\n",
              "  </tbody>\n",
              "</table>\n",
              "</div>"
            ],
            "text/plain": [
              "            ADANIPORTS        GAIL  ...     RELIANCE    TATASTEEL\n",
              "Date                                ...                          \n",
              "2021-04-30  732.450012  137.449997  ...  1994.699951  1031.550049\n",
              "\n",
              "[1 rows x 7 columns]"
            ]
          },
          "metadata": {
            "tags": []
          },
          "execution_count": 27
        }
      ]
    },
    {
      "cell_type": "code",
      "metadata": {
        "id": "ILiwId84z5gX"
      },
      "source": [
        "import yfinance as yf \n",
        "from pandas_datareader import data as pdr\n",
        "\n",
        "stock_m = ['^BSESN']\n",
        "stock_N = ['^CRSLDX']\n",
        "\n",
        "start = pd.to_datetime('2020-04-30') \n",
        "end = pd.to_datetime('2021-04-30')\n",
        "\n",
        "index = pdr.get_data_yahoo(stock_m, start=start, end=end)['Adj Close']\n",
        "nifty = pdr.get_data_yahoo(stock_N, start=start, end=end)['Adj Close']"
      ],
      "execution_count": 28,
      "outputs": []
    },
    {
      "cell_type": "code",
      "metadata": {
        "colab": {
          "base_uri": "https://localhost:8080/",
          "height": 235
        },
        "id": "CMWlzO5haVo7",
        "outputId": "dc0f87d0-e532-401f-a794-61bb62496378"
      },
      "source": [
        "nifty.head()"
      ],
      "execution_count": 29,
      "outputs": [
        {
          "output_type": "execute_result",
          "data": {
            "text/html": [
              "<div>\n",
              "<style scoped>\n",
              "    .dataframe tbody tr th:only-of-type {\n",
              "        vertical-align: middle;\n",
              "    }\n",
              "\n",
              "    .dataframe tbody tr th {\n",
              "        vertical-align: top;\n",
              "    }\n",
              "\n",
              "    .dataframe thead th {\n",
              "        text-align: right;\n",
              "    }\n",
              "</style>\n",
              "<table border=\"1\" class=\"dataframe\">\n",
              "  <thead>\n",
              "    <tr style=\"text-align: right;\">\n",
              "      <th>Symbols</th>\n",
              "      <th>^CRSLDX</th>\n",
              "    </tr>\n",
              "    <tr>\n",
              "      <th>Date</th>\n",
              "      <th></th>\n",
              "    </tr>\n",
              "  </thead>\n",
              "  <tbody>\n",
              "    <tr>\n",
              "      <th>2020-04-30</th>\n",
              "      <td>8012.899902</td>\n",
              "    </tr>\n",
              "    <tr>\n",
              "      <th>2020-05-04</th>\n",
              "      <td>7596.899902</td>\n",
              "    </tr>\n",
              "    <tr>\n",
              "      <th>2020-05-05</th>\n",
              "      <td>7523.049805</td>\n",
              "    </tr>\n",
              "    <tr>\n",
              "      <th>2020-05-06</th>\n",
              "      <td>7575.500000</td>\n",
              "    </tr>\n",
              "    <tr>\n",
              "      <th>2020-05-07</th>\n",
              "      <td>7520.850098</td>\n",
              "    </tr>\n",
              "  </tbody>\n",
              "</table>\n",
              "</div>"
            ],
            "text/plain": [
              "Symbols         ^CRSLDX\n",
              "Date                   \n",
              "2020-04-30  8012.899902\n",
              "2020-05-04  7596.899902\n",
              "2020-05-05  7523.049805\n",
              "2020-05-06  7575.500000\n",
              "2020-05-07  7520.850098"
            ]
          },
          "metadata": {
            "tags": []
          },
          "execution_count": 29
        }
      ]
    },
    {
      "cell_type": "code",
      "metadata": {
        "id": "sgER00-K1LR6",
        "colab": {
          "base_uri": "https://localhost:8080/",
          "height": 235
        },
        "outputId": "dc0cdf69-e404-429b-c893-fa0b3c2fbfa8"
      },
      "source": [
        "index.head()"
      ],
      "execution_count": 30,
      "outputs": [
        {
          "output_type": "execute_result",
          "data": {
            "text/html": [
              "<div>\n",
              "<style scoped>\n",
              "    .dataframe tbody tr th:only-of-type {\n",
              "        vertical-align: middle;\n",
              "    }\n",
              "\n",
              "    .dataframe tbody tr th {\n",
              "        vertical-align: top;\n",
              "    }\n",
              "\n",
              "    .dataframe thead th {\n",
              "        text-align: right;\n",
              "    }\n",
              "</style>\n",
              "<table border=\"1\" class=\"dataframe\">\n",
              "  <thead>\n",
              "    <tr style=\"text-align: right;\">\n",
              "      <th>Symbols</th>\n",
              "      <th>^BSESN</th>\n",
              "    </tr>\n",
              "    <tr>\n",
              "      <th>Date</th>\n",
              "      <th></th>\n",
              "    </tr>\n",
              "  </thead>\n",
              "  <tbody>\n",
              "    <tr>\n",
              "      <th>2020-04-30</th>\n",
              "      <td>33717.621094</td>\n",
              "    </tr>\n",
              "    <tr>\n",
              "      <th>2020-05-04</th>\n",
              "      <td>31715.349609</td>\n",
              "    </tr>\n",
              "    <tr>\n",
              "      <th>2020-05-05</th>\n",
              "      <td>31453.509766</td>\n",
              "    </tr>\n",
              "    <tr>\n",
              "      <th>2020-05-06</th>\n",
              "      <td>31685.750000</td>\n",
              "    </tr>\n",
              "    <tr>\n",
              "      <th>2020-05-07</th>\n",
              "      <td>31443.380859</td>\n",
              "    </tr>\n",
              "  </tbody>\n",
              "</table>\n",
              "</div>"
            ],
            "text/plain": [
              "Symbols           ^BSESN\n",
              "Date                    \n",
              "2020-04-30  33717.621094\n",
              "2020-05-04  31715.349609\n",
              "2020-05-05  31453.509766\n",
              "2020-05-06  31685.750000\n",
              "2020-05-07  31443.380859"
            ]
          },
          "metadata": {
            "tags": []
          },
          "execution_count": 30
        }
      ]
    },
    {
      "cell_type": "code",
      "metadata": {
        "id": "Vw17niHV1QSU",
        "colab": {
          "base_uri": "https://localhost:8080/",
          "height": 235
        },
        "outputId": "5f08540f-51e0-4bdd-dad7-6e2cbec18ae9"
      },
      "source": [
        "log_ret_index = index.pct_change()\n",
        "log_ret_nifty = nifty.pct_change()\n",
        "\n",
        "log_ret_index.tail()\n"
      ],
      "execution_count": 31,
      "outputs": [
        {
          "output_type": "execute_result",
          "data": {
            "text/html": [
              "<div>\n",
              "<style scoped>\n",
              "    .dataframe tbody tr th:only-of-type {\n",
              "        vertical-align: middle;\n",
              "    }\n",
              "\n",
              "    .dataframe tbody tr th {\n",
              "        vertical-align: top;\n",
              "    }\n",
              "\n",
              "    .dataframe thead th {\n",
              "        text-align: right;\n",
              "    }\n",
              "</style>\n",
              "<table border=\"1\" class=\"dataframe\">\n",
              "  <thead>\n",
              "    <tr style=\"text-align: right;\">\n",
              "      <th>Symbols</th>\n",
              "      <th>^BSESN</th>\n",
              "    </tr>\n",
              "    <tr>\n",
              "      <th>Date</th>\n",
              "      <th></th>\n",
              "    </tr>\n",
              "  </thead>\n",
              "  <tbody>\n",
              "    <tr>\n",
              "      <th>2021-04-26</th>\n",
              "      <td>0.010612</td>\n",
              "    </tr>\n",
              "    <tr>\n",
              "      <th>2021-04-27</th>\n",
              "      <td>0.011524</td>\n",
              "    </tr>\n",
              "    <tr>\n",
              "      <th>2021-04-28</th>\n",
              "      <td>0.016135</td>\n",
              "    </tr>\n",
              "    <tr>\n",
              "      <th>2021-04-29</th>\n",
              "      <td>0.000645</td>\n",
              "    </tr>\n",
              "    <tr>\n",
              "      <th>2021-04-30</th>\n",
              "      <td>-0.019764</td>\n",
              "    </tr>\n",
              "  </tbody>\n",
              "</table>\n",
              "</div>"
            ],
            "text/plain": [
              "Symbols       ^BSESN\n",
              "Date                \n",
              "2021-04-26  0.010612\n",
              "2021-04-27  0.011524\n",
              "2021-04-28  0.016135\n",
              "2021-04-29  0.000645\n",
              "2021-04-30 -0.019764"
            ]
          },
          "metadata": {
            "tags": []
          },
          "execution_count": 31
        }
      ]
    },
    {
      "cell_type": "code",
      "metadata": {
        "colab": {
          "base_uri": "https://localhost:8080/",
          "height": 235
        },
        "id": "g7FknxB1Z1hs",
        "outputId": "ef5a4513-817f-46fc-8548-dcce9d0e519c"
      },
      "source": [
        "log_ret_nifty.tail()"
      ],
      "execution_count": 32,
      "outputs": [
        {
          "output_type": "execute_result",
          "data": {
            "text/html": [
              "<div>\n",
              "<style scoped>\n",
              "    .dataframe tbody tr th:only-of-type {\n",
              "        vertical-align: middle;\n",
              "    }\n",
              "\n",
              "    .dataframe tbody tr th {\n",
              "        vertical-align: top;\n",
              "    }\n",
              "\n",
              "    .dataframe thead th {\n",
              "        text-align: right;\n",
              "    }\n",
              "</style>\n",
              "<table border=\"1\" class=\"dataframe\">\n",
              "  <thead>\n",
              "    <tr style=\"text-align: right;\">\n",
              "      <th>Symbols</th>\n",
              "      <th>^CRSLDX</th>\n",
              "    </tr>\n",
              "    <tr>\n",
              "      <th>Date</th>\n",
              "      <th></th>\n",
              "    </tr>\n",
              "  </thead>\n",
              "  <tbody>\n",
              "    <tr>\n",
              "      <th>2021-04-26</th>\n",
              "      <td>0.009190</td>\n",
              "    </tr>\n",
              "    <tr>\n",
              "      <th>2021-04-27</th>\n",
              "      <td>0.011926</td>\n",
              "    </tr>\n",
              "    <tr>\n",
              "      <th>2021-04-28</th>\n",
              "      <td>0.012570</td>\n",
              "    </tr>\n",
              "    <tr>\n",
              "      <th>2021-04-29</th>\n",
              "      <td>0.001186</td>\n",
              "    </tr>\n",
              "    <tr>\n",
              "      <th>2021-04-30</th>\n",
              "      <td>-0.013441</td>\n",
              "    </tr>\n",
              "  </tbody>\n",
              "</table>\n",
              "</div>"
            ],
            "text/plain": [
              "Symbols      ^CRSLDX\n",
              "Date                \n",
              "2021-04-26  0.009190\n",
              "2021-04-27  0.011926\n",
              "2021-04-28  0.012570\n",
              "2021-04-29  0.001186\n",
              "2021-04-30 -0.013441"
            ]
          },
          "metadata": {
            "tags": []
          },
          "execution_count": 32
        }
      ]
    },
    {
      "cell_type": "code",
      "metadata": {
        "colab": {
          "base_uri": "https://localhost:8080/"
        },
        "id": "RbqAJqO8Z5k8",
        "outputId": "0784fce5-a008-425e-9e40-33b48c399924"
      },
      "source": [
        "log_ret_nifty.mean()*250"
      ],
      "execution_count": 33,
      "outputs": [
        {
          "output_type": "execute_result",
          "data": {
            "text/plain": [
              "Symbols\n",
              "^CRSLDX    0.454654\n",
              "dtype: float64"
            ]
          },
          "metadata": {
            "tags": []
          },
          "execution_count": 33
        }
      ]
    },
    {
      "cell_type": "code",
      "metadata": {
        "colab": {
          "base_uri": "https://localhost:8080/"
        },
        "id": "Idl2sE3Viihf",
        "outputId": "1e3c8547-4565-4981-bdfe-7195259d3516"
      },
      "source": [
        "log_ret_index.mean()*250"
      ],
      "execution_count": 34,
      "outputs": [
        {
          "output_type": "execute_result",
          "data": {
            "text/plain": [
              "Symbols\n",
              "^BSESN    0.392499\n",
              "dtype: float64"
            ]
          },
          "metadata": {
            "tags": []
          },
          "execution_count": 34
        }
      ]
    },
    {
      "cell_type": "code",
      "metadata": {
        "id": "-zYp3OZF16Yz",
        "colab": {
          "base_uri": "https://localhost:8080/",
          "height": 235
        },
        "outputId": "3d31a2b4-35f2-4aea-a4ed-a3b152f338b2"
      },
      "source": [
        "ret.tail()"
      ],
      "execution_count": 35,
      "outputs": [
        {
          "output_type": "execute_result",
          "data": {
            "text/html": [
              "<div>\n",
              "<style scoped>\n",
              "    .dataframe tbody tr th:only-of-type {\n",
              "        vertical-align: middle;\n",
              "    }\n",
              "\n",
              "    .dataframe tbody tr th {\n",
              "        vertical-align: top;\n",
              "    }\n",
              "\n",
              "    .dataframe thead th {\n",
              "        text-align: right;\n",
              "    }\n",
              "</style>\n",
              "<table border=\"1\" class=\"dataframe\">\n",
              "  <thead>\n",
              "    <tr style=\"text-align: right;\">\n",
              "      <th></th>\n",
              "      <th>ADANIPORTS</th>\n",
              "      <th>GAIL</th>\n",
              "      <th>HDFCBANK</th>\n",
              "      <th>INFY</th>\n",
              "      <th>KOTAKBANK</th>\n",
              "      <th>RELIANCE</th>\n",
              "      <th>TATASTEEL</th>\n",
              "    </tr>\n",
              "    <tr>\n",
              "      <th>Date</th>\n",
              "      <th></th>\n",
              "      <th></th>\n",
              "      <th></th>\n",
              "      <th></th>\n",
              "      <th></th>\n",
              "      <th></th>\n",
              "      <th></th>\n",
              "    </tr>\n",
              "  </thead>\n",
              "  <tbody>\n",
              "    <tr>\n",
              "      <th>2021-04-26</th>\n",
              "      <td>0.007445</td>\n",
              "      <td>0.004637</td>\n",
              "      <td>-0.006612</td>\n",
              "      <td>0.007310</td>\n",
              "      <td>0.014675</td>\n",
              "      <td>0.017591</td>\n",
              "      <td>0.016368</td>\n",
              "    </tr>\n",
              "    <tr>\n",
              "      <th>2021-04-27</th>\n",
              "      <td>0.025180</td>\n",
              "      <td>0.011923</td>\n",
              "      <td>0.024131</td>\n",
              "      <td>0.003684</td>\n",
              "      <td>-0.005314</td>\n",
              "      <td>0.026215</td>\n",
              "      <td>0.039330</td>\n",
              "    </tr>\n",
              "    <tr>\n",
              "      <th>2021-04-28</th>\n",
              "      <td>-0.003871</td>\n",
              "      <td>0.013683</td>\n",
              "      <td>0.026482</td>\n",
              "      <td>0.005562</td>\n",
              "      <td>0.034937</td>\n",
              "      <td>0.004350</td>\n",
              "      <td>-0.006494</td>\n",
              "    </tr>\n",
              "    <tr>\n",
              "      <th>2021-04-29</th>\n",
              "      <td>0.000670</td>\n",
              "      <td>0.010874</td>\n",
              "      <td>-0.002912</td>\n",
              "      <td>0.000258</td>\n",
              "      <td>-0.003561</td>\n",
              "      <td>0.013393</td>\n",
              "      <td>0.061715</td>\n",
              "    </tr>\n",
              "    <tr>\n",
              "      <th>2021-04-30</th>\n",
              "      <td>-0.019150</td>\n",
              "      <td>0.019659</td>\n",
              "      <td>-0.039796</td>\n",
              "      <td>0.000958</td>\n",
              "      <td>-0.030443</td>\n",
              "      <td>-0.014501</td>\n",
              "      <td>0.000194</td>\n",
              "    </tr>\n",
              "  </tbody>\n",
              "</table>\n",
              "</div>"
            ],
            "text/plain": [
              "            ADANIPORTS      GAIL  HDFCBANK  ...  KOTAKBANK  RELIANCE  TATASTEEL\n",
              "Date                                        ...                                \n",
              "2021-04-26    0.007445  0.004637 -0.006612  ...   0.014675  0.017591   0.016368\n",
              "2021-04-27    0.025180  0.011923  0.024131  ...  -0.005314  0.026215   0.039330\n",
              "2021-04-28   -0.003871  0.013683  0.026482  ...   0.034937  0.004350  -0.006494\n",
              "2021-04-29    0.000670  0.010874 -0.002912  ...  -0.003561  0.013393   0.061715\n",
              "2021-04-30   -0.019150  0.019659 -0.039796  ...  -0.030443 -0.014501   0.000194\n",
              "\n",
              "[5 rows x 7 columns]"
            ]
          },
          "metadata": {
            "tags": []
          },
          "execution_count": 35
        }
      ]
    },
    {
      "cell_type": "code",
      "metadata": {
        "id": "f73MYCcX2cuP",
        "colab": {
          "base_uri": "https://localhost:8080/",
          "height": 320
        },
        "outputId": "3a180475-a25f-4e41-db3c-6f7cdeb04648"
      },
      "source": [
        "beta_data = pd.concat([log_ret_index,ret], axis=1)\n",
        "beta_data.dropna(inplace=True)\n",
        "\n",
        "beta_data_1 = pd.concat([log_ret_nifty,ret], axis=1)\n",
        "beta_data_1.dropna(inplace=True)\n",
        "\n",
        "beta_data.tail()"
      ],
      "execution_count": 36,
      "outputs": [
        {
          "output_type": "execute_result",
          "data": {
            "text/html": [
              "<div>\n",
              "<style scoped>\n",
              "    .dataframe tbody tr th:only-of-type {\n",
              "        vertical-align: middle;\n",
              "    }\n",
              "\n",
              "    .dataframe tbody tr th {\n",
              "        vertical-align: top;\n",
              "    }\n",
              "\n",
              "    .dataframe thead th {\n",
              "        text-align: right;\n",
              "    }\n",
              "</style>\n",
              "<table border=\"1\" class=\"dataframe\">\n",
              "  <thead>\n",
              "    <tr style=\"text-align: right;\">\n",
              "      <th></th>\n",
              "      <th>^BSESN</th>\n",
              "      <th>ADANIPORTS</th>\n",
              "      <th>GAIL</th>\n",
              "      <th>HDFCBANK</th>\n",
              "      <th>INFY</th>\n",
              "      <th>KOTAKBANK</th>\n",
              "      <th>RELIANCE</th>\n",
              "      <th>TATASTEEL</th>\n",
              "    </tr>\n",
              "    <tr>\n",
              "      <th>Date</th>\n",
              "      <th></th>\n",
              "      <th></th>\n",
              "      <th></th>\n",
              "      <th></th>\n",
              "      <th></th>\n",
              "      <th></th>\n",
              "      <th></th>\n",
              "      <th></th>\n",
              "    </tr>\n",
              "  </thead>\n",
              "  <tbody>\n",
              "    <tr>\n",
              "      <th>2021-04-26</th>\n",
              "      <td>0.010612</td>\n",
              "      <td>0.007445</td>\n",
              "      <td>0.004637</td>\n",
              "      <td>-0.006612</td>\n",
              "      <td>0.007310</td>\n",
              "      <td>0.014675</td>\n",
              "      <td>0.017591</td>\n",
              "      <td>0.016368</td>\n",
              "    </tr>\n",
              "    <tr>\n",
              "      <th>2021-04-27</th>\n",
              "      <td>0.011524</td>\n",
              "      <td>0.025180</td>\n",
              "      <td>0.011923</td>\n",
              "      <td>0.024131</td>\n",
              "      <td>0.003684</td>\n",
              "      <td>-0.005314</td>\n",
              "      <td>0.026215</td>\n",
              "      <td>0.039330</td>\n",
              "    </tr>\n",
              "    <tr>\n",
              "      <th>2021-04-28</th>\n",
              "      <td>0.016135</td>\n",
              "      <td>-0.003871</td>\n",
              "      <td>0.013683</td>\n",
              "      <td>0.026482</td>\n",
              "      <td>0.005562</td>\n",
              "      <td>0.034937</td>\n",
              "      <td>0.004350</td>\n",
              "      <td>-0.006494</td>\n",
              "    </tr>\n",
              "    <tr>\n",
              "      <th>2021-04-29</th>\n",
              "      <td>0.000645</td>\n",
              "      <td>0.000670</td>\n",
              "      <td>0.010874</td>\n",
              "      <td>-0.002912</td>\n",
              "      <td>0.000258</td>\n",
              "      <td>-0.003561</td>\n",
              "      <td>0.013393</td>\n",
              "      <td>0.061715</td>\n",
              "    </tr>\n",
              "    <tr>\n",
              "      <th>2021-04-30</th>\n",
              "      <td>-0.019764</td>\n",
              "      <td>-0.019150</td>\n",
              "      <td>0.019659</td>\n",
              "      <td>-0.039796</td>\n",
              "      <td>0.000958</td>\n",
              "      <td>-0.030443</td>\n",
              "      <td>-0.014501</td>\n",
              "      <td>0.000194</td>\n",
              "    </tr>\n",
              "  </tbody>\n",
              "</table>\n",
              "</div>"
            ],
            "text/plain": [
              "              ^BSESN  ADANIPORTS      GAIL  ...  KOTAKBANK  RELIANCE  TATASTEEL\n",
              "Date                                        ...                                \n",
              "2021-04-26  0.010612    0.007445  0.004637  ...   0.014675  0.017591   0.016368\n",
              "2021-04-27  0.011524    0.025180  0.011923  ...  -0.005314  0.026215   0.039330\n",
              "2021-04-28  0.016135   -0.003871  0.013683  ...   0.034937  0.004350  -0.006494\n",
              "2021-04-29  0.000645    0.000670  0.010874  ...  -0.003561  0.013393   0.061715\n",
              "2021-04-30 -0.019764   -0.019150  0.019659  ...  -0.030443 -0.014501   0.000194\n",
              "\n",
              "[5 rows x 8 columns]"
            ]
          },
          "metadata": {
            "tags": []
          },
          "execution_count": 36
        }
      ]
    },
    {
      "cell_type": "code",
      "metadata": {
        "id": "P18uDz4t2MqH",
        "colab": {
          "base_uri": "https://localhost:8080/"
        },
        "outputId": "1c85861f-14cf-4c8c-8020-7aeb8390263e"
      },
      "source": [
        "beta_array =[] \n",
        "beta_array.append((beta_data[['ADANIPORTS','^BSESN']].cov()/beta_data['^BSESN'].var()).iloc[0].iloc[1])\n",
        "beta_array.append((beta_data[['GAIL','^BSESN']].cov()/beta_data['^BSESN'].var()).iloc[0].iloc[1])\n",
        "beta_array.append((beta_data[['HDFCBANK','^BSESN']].cov()/beta_data['^BSESN'].var()).iloc[0].iloc[1])\n",
        "beta_array.append((beta_data[['INFY','^BSESN']].cov()/beta_data['^BSESN'].var()).iloc[0].iloc[1])\n",
        "beta_array.append((beta_data[['KOTAKBANK','^BSESN']].cov()/beta_data['^BSESN'].var()).iloc[0].iloc[1])\n",
        "beta_array.append((beta_data[['RELIANCE','^BSESN']].cov()/beta_data['^BSESN'].var()).iloc[0].iloc[1])\n",
        "beta_array.append((beta_data[['TATASTEEL','^BSESN']].cov()/beta_data['^BSESN'].var()).iloc[0].iloc[1])\n",
        "\n",
        "beta_array_1 =[] \n",
        "beta_array_1.append((beta_data_1[['ADANIPORTS','^CRSLDX']].cov()/beta_data_1['^CRSLDX'].var()).iloc[0].iloc[1])\n",
        "beta_array_1.append((beta_data_1[['GAIL','^CRSLDX']].cov()/beta_data_1['^CRSLDX'].var()).iloc[0].iloc[1])\n",
        "beta_array_1.append((beta_data_1[['HDFCBANK','^CRSLDX']].cov()/beta_data_1['^CRSLDX'].var()).iloc[0].iloc[1])\n",
        "beta_array_1.append((beta_data_1[['INFY','^CRSLDX']].cov()/beta_data_1['^CRSLDX'].var()).iloc[0].iloc[1])\n",
        "beta_array_1.append((beta_data_1[['KOTAKBANK','^CRSLDX']].cov()/beta_data_1['^CRSLDX'].var()).iloc[0].iloc[1])\n",
        "beta_array_1.append((beta_data_1[['RELIANCE','^CRSLDX']].cov()/beta_data_1['^CRSLDX'].var()).iloc[0].iloc[1])\n",
        "beta_array_1.append((beta_data_1[['TATASTEEL','^CRSLDX']].cov()/beta_data_1['^CRSLDX'].var()).iloc[0].iloc[1])\n",
        "\n",
        "\n",
        "\n",
        "\n",
        "beta_array\n"
      ],
      "execution_count": 37,
      "outputs": [
        {
          "output_type": "execute_result",
          "data": {
            "text/plain": [
              "[1.0468050957731707,\n",
              " 0.880793594790211,\n",
              " 1.3015744557450015,\n",
              " 0.6670153988321066,\n",
              " 1.1598968460787253,\n",
              " 0.8698206660575702,\n",
              " 1.1091874459476447]"
            ]
          },
          "metadata": {
            "tags": []
          },
          "execution_count": 37
        }
      ]
    },
    {
      "cell_type": "code",
      "metadata": {
        "colab": {
          "base_uri": "https://localhost:8080/"
        },
        "id": "Cz0YZAJs0NxT",
        "outputId": "e12692f5-40a6-4d63-bb68-c12085ad54dc"
      },
      "source": [
        "beta_array_1"
      ],
      "execution_count": 38,
      "outputs": [
        {
          "output_type": "execute_result",
          "data": {
            "text/plain": [
              "[1.2500613567812389,\n",
              " 1.0754397899704449,\n",
              " 1.29855099517806,\n",
              " 0.6825133747202141,\n",
              " 1.1980532214609834,\n",
              " 0.8893632159369468,\n",
              " 1.3568153265743441]"
            ]
          },
          "metadata": {
            "tags": []
          },
          "execution_count": 38
        }
      ]
    },
    {
      "cell_type": "code",
      "metadata": {
        "id": "lZBJvbcU4yTW",
        "colab": {
          "base_uri": "https://localhost:8080/"
        },
        "outputId": "5cfe44d1-dc83-436d-fd80-72252463f40f"
      },
      "source": [
        "beta_mvp_sensex = np.sum(beta_array*min_var)\n",
        "beta_mvp_sensex"
      ],
      "execution_count": 39,
      "outputs": [
        {
          "output_type": "execute_result",
          "data": {
            "text/plain": [
              "1.0133365372167384"
            ]
          },
          "metadata": {
            "tags": []
          },
          "execution_count": 39
        }
      ]
    },
    {
      "cell_type": "code",
      "metadata": {
        "colab": {
          "base_uri": "https://localhost:8080/"
        },
        "id": "xmgGrXvv0RlS",
        "outputId": "715023ab-65b9-4388-f490-2b66a6d79f40"
      },
      "source": [
        "beta_mvp_nifty = np.sum(beta_array_1*min_var)\n",
        "beta_mvp_nifty"
      ],
      "execution_count": 40,
      "outputs": [
        {
          "output_type": "execute_result",
          "data": {
            "text/plain": [
              "1.127166247946974"
            ]
          },
          "metadata": {
            "tags": []
          },
          "execution_count": 40
        }
      ]
    },
    {
      "cell_type": "code",
      "metadata": {
        "colab": {
          "base_uri": "https://localhost:8080/"
        },
        "id": "ZTPIbW0gWaOK",
        "outputId": "4bee9252-d1a3-462e-993f-379414eda138"
      },
      "source": [
        "np.sum(beta_array*df.Weights[df.Sharpe_Ratio.argmax()])"
      ],
      "execution_count": 41,
      "outputs": [
        {
          "output_type": "execute_result",
          "data": {
            "text/plain": [
              "0.9237166701313978"
            ]
          },
          "metadata": {
            "tags": []
          },
          "execution_count": 41
        }
      ]
    },
    {
      "cell_type": "code",
      "metadata": {
        "colab": {
          "base_uri": "https://localhost:8080/"
        },
        "id": "Qwx-gZJ70UZS",
        "outputId": "ee41e26e-d83b-43e8-fcb1-01b55fa641b3"
      },
      "source": [
        "np.sum(beta_array_1*df.Weights[df.Sharpe_Ratio.argmax()])"
      ],
      "execution_count": 42,
      "outputs": [
        {
          "output_type": "execute_result",
          "data": {
            "text/plain": [
              "1.0716451139019516"
            ]
          },
          "metadata": {
            "tags": []
          },
          "execution_count": 42
        }
      ]
    },
    {
      "cell_type": "code",
      "metadata": {
        "colab": {
          "base_uri": "https://localhost:8080/"
        },
        "id": "aWDae6LTWzm7",
        "outputId": "ffb83c57-d15d-44cb-8b01-9666bf9a3729"
      },
      "source": [
        "df.Weights[df.Sharpe_Ratio.argmax()]"
      ],
      "execution_count": 43,
      "outputs": [
        {
          "output_type": "execute_result",
          "data": {
            "text/plain": [
              "array([2.00617697e-01, 2.91108283e-17, 0.00000000e+00, 3.91150398e-01,\n",
              "       1.00830802e-17, 0.00000000e+00, 4.08231905e-01])"
            ]
          },
          "metadata": {
            "tags": []
          },
          "execution_count": 43
        }
      ]
    },
    {
      "cell_type": "code",
      "metadata": {
        "colab": {
          "base_uri": "https://localhost:8080/"
        },
        "id": "7rJ0gxFfflo8",
        "outputId": "1b5336ea-bf05-4c85-9536-164c7ecad6ae"
      },
      "source": [
        "market_return_array = index.pct_change()\n",
        "market_return = market_return_array['^BSESN'].mean()*250\n",
        "market_return"
      ],
      "execution_count": 44,
      "outputs": [
        {
          "output_type": "execute_result",
          "data": {
            "text/plain": [
              "0.392499243540008"
            ]
          },
          "metadata": {
            "tags": []
          },
          "execution_count": 44
        }
      ]
    },
    {
      "cell_type": "code",
      "metadata": {
        "colab": {
          "base_uri": "https://localhost:8080/"
        },
        "id": "GnRS2N1s0bIq",
        "outputId": "d2506241-c3f4-4eda-aaa7-18c59277cfe8"
      },
      "source": [
        "market_return_array_1 = nifty.pct_change()\n",
        "market_return_1 = market_return_array_1['^CRSLDX'].mean()*250\n",
        "market_return_1"
      ],
      "execution_count": 45,
      "outputs": [
        {
          "output_type": "execute_result",
          "data": {
            "text/plain": [
              "0.45465381688519463"
            ]
          },
          "metadata": {
            "tags": []
          },
          "execution_count": 45
        }
      ]
    },
    {
      "cell_type": "code",
      "metadata": {
        "colab": {
          "base_uri": "https://localhost:8080/"
        },
        "id": "IKMxnDHunSpe",
        "outputId": "1c6669ec-fa51-457c-84eb-1ac8a15a9c78"
      },
      "source": [
        "return_of_stocks = []\n",
        "return_of_stocks=(ret*250).mean()\n",
        "return_of_stocks"
      ],
      "execution_count": 46,
      "outputs": [
        {
          "output_type": "execute_result",
          "data": {
            "text/plain": [
              "ADANIPORTS    1.005494\n",
              "GAIL          0.467059\n",
              "HDFCBANK      0.397069\n",
              "INFY          0.706191\n",
              "KOTAKBANK     0.313260\n",
              "RELIANCE      0.371473\n",
              "TATASTEEL     1.353889\n",
              "dtype: float64"
            ]
          },
          "metadata": {
            "tags": []
          },
          "execution_count": 46
        }
      ]
    },
    {
      "cell_type": "code",
      "metadata": {
        "colab": {
          "base_uri": "https://localhost:8080/"
        },
        "id": "MyQxE0-SnmWA",
        "outputId": "5e66b368-a7cd-4907-c074-2362665e2269"
      },
      "source": [
        "return_of_portfollio = np.sum(return_of_stocks*min_var)\n",
        "return_of_portfollio"
      ],
      "execution_count": 47,
      "outputs": [
        {
          "output_type": "execute_result",
          "data": {
            "text/plain": [
              "0.5489132603835559"
            ]
          },
          "metadata": {
            "tags": []
          },
          "execution_count": 47
        }
      ]
    },
    {
      "cell_type": "markdown",
      "metadata": {
        "id": "LzzhF6jrQmwu"
      },
      "source": [
        "### **Task 4: Security Market Line**\n"
      ]
    },
    {
      "cell_type": "code",
      "metadata": {
        "colab": {
          "base_uri": "https://localhost:8080/"
        },
        "id": "1NkZrY92onhM",
        "outputId": "b9d70984-1da1-4c30-a4ba-078f4fcfd842"
      },
      "source": [
        "cols = ret.columns\n",
        "cols"
      ],
      "execution_count": 48,
      "outputs": [
        {
          "output_type": "execute_result",
          "data": {
            "text/plain": [
              "Index(['ADANIPORTS', 'GAIL', 'HDFCBANK', 'INFY', 'KOTAKBANK', 'RELIANCE',\n",
              "       'TATASTEEL'],\n",
              "      dtype='object')"
            ]
          },
          "metadata": {
            "tags": []
          },
          "execution_count": 48
        }
      ]
    },
    {
      "cell_type": "code",
      "metadata": {
        "colab": {
          "base_uri": "https://localhost:8080/"
        },
        "id": "57ileg85a0Xx",
        "outputId": "a4f84d54-a018-4795-d408-956e8f587cc8"
      },
      "source": [
        "market_return"
      ],
      "execution_count": 49,
      "outputs": [
        {
          "output_type": "execute_result",
          "data": {
            "text/plain": [
              "0.392499243540008"
            ]
          },
          "metadata": {
            "tags": []
          },
          "execution_count": 49
        }
      ]
    },
    {
      "cell_type": "code",
      "metadata": {
        "colab": {
          "base_uri": "https://localhost:8080/"
        },
        "id": "hHU_Z9uYbTe3",
        "outputId": "8b5459ce-38b1-458b-db02-65895d56850f"
      },
      "source": [
        "market_return_1"
      ],
      "execution_count": 50,
      "outputs": [
        {
          "output_type": "execute_result",
          "data": {
            "text/plain": [
              "0.45465381688519463"
            ]
          },
          "metadata": {
            "tags": []
          },
          "execution_count": 50
        }
      ]
    },
    {
      "cell_type": "code",
      "metadata": {
        "colab": {
          "base_uri": "https://localhost:8080/"
        },
        "id": "IMmHcFd2kmo4",
        "outputId": "90274764-d87a-4eea-ba9b-3a09d5a07ae1"
      },
      "source": [
        "return_of_portfollio"
      ],
      "execution_count": 51,
      "outputs": [
        {
          "output_type": "execute_result",
          "data": {
            "text/plain": [
              "0.5489132603835559"
            ]
          },
          "metadata": {
            "tags": []
          },
          "execution_count": 51
        }
      ]
    },
    {
      "cell_type": "code",
      "metadata": {
        "colab": {
          "base_uri": "https://localhost:8080/",
          "height": 727
        },
        "id": "60W_HkN1ga43",
        "outputId": "72269c81-829e-42e4-8660-282af4389357"
      },
      "source": [
        "plt.figure(figsize=(18,18))\n",
        "\n",
        "betas = [x/10 for x in range(-1,15)]\n",
        "assetReturns = [rf+(market_return-rf)*x for x in betas]\n",
        "plt.plot(betas,assetReturns)\n",
        "plt.axhline(0, color='black')\n",
        "plt.axvline(0, color='black')\n",
        "plt.scatter(1, market_return,c='r')\n",
        "plt.xlabel(\"Asset Beta\")\n",
        "plt.ylabel(\"Asset Return\")\n",
        "\n",
        "plt.text(0.8, 0.4, 'Market Return = 0.39 ', fontsize=8,  color='r')\n",
        "plt.title('Security Market Line_SENSEX', fontsize=8)\n",
        "\n",
        "\n",
        "plt.scatter(beta_array, return_of_stocks)\n",
        "for i in range(7):\n",
        "    plt.annotate(cols[i], ( beta_array[i],return_of_stocks[i]))\n",
        "\n",
        "plt.scatter(beta_mvp_sensex, return_of_portfollio,c='g')\n",
        "plt.annotate('MVP', (beta_mvp_sensex, return_of_portfollio), )\n",
        "\n",
        "plt.savefig('Market_SML_BSE_SENSEX.png', dpi = 300)"
      ],
      "execution_count": 52,
      "outputs": [
        {
          "output_type": "display_data",
          "data": {
            "image/png": "[encoded data removed]",
            "text/plain": [
              "<Figure size 1296x1296 with 1 Axes>"
            ]
          },
          "metadata": {
            "tags": [],
            "needs_background": "light"
          }
        }
      ]
    },
    {
      "cell_type": "code",
      "metadata": {
        "colab": {
          "base_uri": "https://localhost:8080/",
          "height": 727
        },
        "id": "Qm8nZqIy06P7",
        "outputId": "0aad9bb0-a7f9-4cd3-c375-d34e1f9f311a"
      },
      "source": [
        "plt.figure(figsize=(18,18))\n",
        "\n",
        "betas = [x/10 for x in range(-1,15)]\n",
        "assetReturns = [rf+(market_return_1-rf)*x for x in betas]\n",
        "plt.plot(betas,assetReturns)\n",
        "plt.axhline(0, color='black')\n",
        "plt.axvline(0, color='black')\n",
        "plt.scatter(1, market_return_1,c='r')\n",
        "plt.xlabel(\"Asset Beta\")\n",
        "plt.ylabel(\"Asset Return\")\n",
        "\n",
        "plt.text(0.84, 0.5, 'Market Return = 0.45 ', fontsize=8,  color='r')\n",
        "plt.title('Security Market Line_NIFTY500', fontsize=8)\n",
        "\n",
        "\n",
        "plt.scatter(beta_array_1, return_of_stocks)\n",
        "for i in range(7):\n",
        "    plt.annotate(cols[i], ( beta_array_1[i],return_of_stocks[i]))\n",
        "\n",
        "plt.scatter(beta_mvp_nifty, return_of_portfollio,c='g')\n",
        "plt.annotate('MVP', (beta_mvp_nifty, return_of_portfollio), )\n",
        "\n",
        "plt.savefig('Market_SML_NIFTY_500.png', dpi = 300)"
      ],
      "execution_count": 53,
      "outputs": [
        {
          "output_type": "display_data",
          "data": {
            "image/png": "[encoded data removed]",
            "text/plain": [
              "<Figure size 1296x1296 with 1 Axes>"
            ]
          },
          "metadata": {
            "tags": [],
            "needs_background": "light"
          }
        }
      ]
    },
    {
      "cell_type": "markdown",
      "metadata": {
        "id": "2NApemIFwHaU"
      },
      "source": [
        "### **Task 5: Capital Allocation Market Line**\n",
        "\n"
      ]
    },
    {
      "cell_type": "code",
      "metadata": {
        "colab": {
          "base_uri": "https://localhost:8080/",
          "height": 295
        },
        "id": "wKo0VialMj7C",
        "outputId": "7c4fd28c-7f48-44a2-b1bf-980e748bc765"
      },
      "source": [
        "weights = optimal_weights(100, er, cov)\n",
        "rets = [portfolio_return(w, er) for w in weights]\n",
        "vols = [portfolio_vol(w, cov) for w in weights]\n",
        "ef = pd.DataFrame({\n",
        "  \"Returns\": rets, \n",
        "  \"Volatility\": vols,\n",
        "  \"Weights\": weights\n",
        "})\n",
        "ef[\"Sharpe_Ratio\"]=(ef.Returns - 0.05) / ef.Volatility\n",
        "plt.plot(ef[\"Volatility\"],ef[\"Returns\"])\n",
        "plt.xlabel('Volatility')\n",
        "plt.ylabel(\"Returns\")\n",
        "plt.title(\"Efficient Frontier Line with Capital Allocation Market Line\")\n",
        "plt.plot(ef[\"Volatility\"], ef[\"Returns\"])\n",
        "plt.plot(ef[\"Volatility\"], ef[\"Returns\"])\n",
        "\n",
        "plt.scatter(ef.Volatility[ef[\"Sharpe_Ratio\"].argmax()],ef.Returns[ef[\"Sharpe_Ratio\"].argmax()], c='b')\n",
        "X = [0,ef.Volatility[ef[\"Sharpe_Ratio\"].argmax()]]\n",
        "Y = [0.05, ef.Returns[ef[\"Sharpe_Ratio\"].argmax()]]\n",
        "m = (Y[1]-Y[0]) / (X[1] - X[0])\n",
        "\n",
        "rm = ef.Returns[ef[\"Sharpe_Ratio\"].argmax()]\n",
        "assetReturns = [m*x+0.05  for x in ef.Volatility]\n",
        "#plt.text(0.21, 01.35, 'Capital Allocation Market Line', fontsize=15,  color='r')\n",
        "plt.plot(ef.Volatility,assetReturns)\n",
        "\n",
        "assetReturns = [m*x+0.05  for x in ef.Volatility]\n",
        "#plt.text(0.21, 01.35, 'Capital Allocation Market Line', fontsize=15,  color='r')\n",
        "plt.plot(ef.Volatility,assetReturns)\n",
        "\n",
        "plt.text(0.25, 0.9, 'Point of maximum Sharpe Ratio', fontsize=8,  color='r')\n",
        "\n",
        "\n",
        "plt.savefig('Capital Allocation Market Line')"
      ],
      "execution_count": 54,
      "outputs": [
        {
          "output_type": "display_data",
          "data": {
            "image/png": "[encoded data removed]",
            "text/plain": [
              "<Figure size 432x288 with 1 Axes>"
            ]
          },
          "metadata": {
            "tags": [],
            "needs_background": "light"
          }
        }
      ]
    },
    {
      "cell_type": "markdown",
      "metadata": {
        "id": "vFUOd7_ldHLq"
      },
      "source": [
        "## **Summary of Results - Quadritic Programming**\n",
        "\n",
        "\n",
        "\n",
        "*   **Minimum Variance Portfollio** :\n",
        "TATASTEEL     0.022649\n",
        "ADANIPORTS    0.048180\n",
        "HDFCBANK      0.083842\n",
        "GAIL          0.118748\n",
        "KOTAKBANK     0.142834\n",
        "RELIANCE      0.226849\n",
        "INFY          0.356898\n",
        "\n",
        "*  **Minimum Variance Portfollio Percentages** (Graph Attached)\n",
        "        *   TATA STEEL : 2.2%\n",
        "        *   ADANIPORTS : 4.8% \n",
        "        *   HDFCBANK : 8.3%\n",
        "        *   GAIL : 11.8% \n",
        "        *   KOTABANK : 14.2%\n",
        "        *   RELIANCE : 22.6%\n",
        "        *   INFY : 35.6%\n",
        "\n",
        "*   **Maximum Sharpe Portfollio** : [2.00617697e-01, 2.91108283e-17, 0.00000000e+00, 3.91150398e-01,1.00830802e-17, 0.00000000e+00, 4.08231905e-01] in alphabetical order of stocks\n",
        "\n",
        "        \n",
        "*   **Efficiency Frontier Line**\n",
        "        *   Minimum Volatility (Variance) : 0.200\n",
        "        *   Return at minimum Volatility: 0.548\n",
        "        *   Maximum Sharpe Ratio : 3.699\n",
        "        *   Volatility at maximum Sharpe Ratio : 0.26\n",
        "        *   Return at maximum Sharpe Ratio : 1.03\n",
        "\n",
        "      \n",
        "*  **Beta** of each stock in alphabatical order wrt Sensex:\n",
        "[1.04, 0.88, 1.30, 0.67, 1.15, 0.87, 1.10]\n",
        "\n",
        "*  **Beta** of each stock in alphabatical order wrt Nifty500:\n",
        "[1.25, 1.07, 1.30, 0.68, 1.19, 0.88, 1.35]\n",
        "\n",
        "*   **Beta of the Minimum Variance Portfollio (Sensex)** : 1.0\n",
        "\n",
        "*   **Beta of the Minimum Variance Portfollio (Nifty500)** : 1.1\n",
        "\n",
        "*   **Security Market Line : Sensex** \n",
        "        *  Slope : 0.34\n",
        "        *  Y-Intercept : 0.050 (Risk Free Rate)\n",
        "\n",
        "*   **Security Market Line : Nifty500** \n",
        "        *  Slope : 0.40\n",
        "        *  Y-Intercept : 0.050 (Risk Free Rate)\n",
        "\n",
        "*   **Capital Allocation Market Market Line** \n",
        "        *  Slope : 3.353\n",
        "        *  Y-Intercept : 0.050 (Risk Free Rate)\n"
      ]
    }
  ]
}
